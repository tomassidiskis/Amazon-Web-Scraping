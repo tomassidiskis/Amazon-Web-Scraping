{
 "cells": [
  {
   "cell_type": "code",
   "execution_count": 1,
   "id": "c7712e17",
   "metadata": {},
   "outputs": [],
   "source": [
    "# Import libraries\n",
    "\n",
    "from bs4 import BeautifulSoup\n",
    "import requests\n",
    "import smtplib\n",
    "import time\n",
    "import datetime\n"
   ]
  },
  {
   "cell_type": "code",
   "execution_count": 2,
   "id": "0fa74cdb",
   "metadata": {},
   "outputs": [
    {
     "name": "stdout",
     "output_type": "stream",
     "text": [
      "\n",
      "            1984: The dystopian classic reimagined with cover art by Shepard Fairey (Penguin Essentials, 95)\n",
      "           \n",
      "\n",
      "                        £6.55\n",
      "                       \n"
     ]
    }
   ],
   "source": [
    "# Connecting to Amazon and pulling in data\n",
    "\n",
    "url = 'https://www.amazon.co.uk/Nineteen-Eighty-four-Penguin-Essentials-George/dp/0141036141/ref=sr_1_1_sspa?crid=QZBDGUJGVE7B&keywords=1984&qid=1651005424&sprefix=1984%2Caps%2C81&sr=8-1-spons&psc=1&spLa=ZW5jcnlwdGVkUXVhbGlmaWVyPUEyMElWNlQyRldTV09PJmVuY3J5cHRlZElkPUEwMzYxMzAzMVZDOEc5MEFQVVg3NCZlbmNyeXB0ZWRBZElkPUEwMTQ5OTUyT1dYS09OMDZETldLJndpZGdldE5hbWU9c3BfYXRmJmFjdGlvbj1jbGlja1JlZGlyZWN0JmRvTm90TG9nQ2xpY2s9dHJ1ZQ=='\n",
    "headers = {\"User-Agent\": \"Mozilla/5.0 (Windows NT 10.0; Win64; x64) AppleWebKit/537.36 (KHTML, like Gecko) Chrome/99.0.4844.74 Safari/537.36\", \"Accept-Encoding\":\"gzip, deflate\", \"Accept\":\"text/html,application/xhtml+xml,application/xml;q=0.9,*/*;q=0.8\", \"DNT\":\"1\",\"Connection\":\"close\", \"Upgrade-Insecure-Requests\":\"1\"}\n",
    "page = requests.get(url, headers=headers)\n",
    "soup1 = BeautifulSoup(page.content, 'html.parser')\n",
    "soup2 = BeautifulSoup(soup1.prettify(), 'html.parser')\n",
    "title = soup2.find(id='productTitle').get_text()\n",
    "price = soup2.find('span', 'a-offscreen').get_text()\n",
    "\n",
    "print(title)\n",
    "print(price)\n"
   ]
  },
  {
   "cell_type": "code",
   "execution_count": 3,
   "id": "81b06e5d",
   "metadata": {},
   "outputs": [
    {
     "name": "stdout",
     "output_type": "stream",
     "text": [
      "1984: The dystopian classic reimagined with cover art by Shepard Fairey (Penguin Essentials, 95)\n",
      "6.55\n"
     ]
    }
   ],
   "source": [
    "# Removing blank spaces and £ sign\n",
    "\n",
    "price = price.strip()[1:]\n",
    "title = title.strip()\n",
    "\n",
    "print(title)\n",
    "print(price)\n"
   ]
  },
  {
   "cell_type": "code",
   "execution_count": 4,
   "id": "651ef444",
   "metadata": {},
   "outputs": [
    {
     "name": "stdout",
     "output_type": "stream",
     "text": [
      "2022-04-28\n"
     ]
    }
   ],
   "source": [
    "# Creating a timestamp for the output to track when data was collected\n",
    "\n",
    "import datetime\n",
    "today = datetime.date.today()\n",
    "\n",
    "print(today)\n"
   ]
  },
  {
   "cell_type": "code",
   "execution_count": 5,
   "id": "5e481976",
   "metadata": {},
   "outputs": [],
   "source": [
    "# Exporting data to CSV\n",
    "\n",
    "import csv\n",
    "\n",
    "header = ['Title', 'Price', 'Date']\n",
    "data = [title, price, today]\n",
    "\n",
    "#with open('AmazonWeb.csv', 'w', newline='', encoding='UTF8') as f:\n",
    "   # writer = csv.writer(f)\n",
    "   # writer.writerow(header)\n",
    "   # writer.writerow(data)\n",
    "    "
   ]
  },
  {
   "cell_type": "code",
   "execution_count": 6,
   "id": "2c619dc3",
   "metadata": {
    "scrolled": true
   },
   "outputs": [
    {
     "name": "stdout",
     "output_type": "stream",
     "text": [
      "                                               Title  Price        Date\n",
      "0  1984: The dystopian classic reimagined with co...   6.55  2022-04-26\n",
      "1  1984: The dystopian classic reimagined with co...   6.55  2022-04-26\n",
      "2  1984: The dystopian classic reimagined with co...   6.55  2022-04-26\n",
      "3  1984: The dystopian classic reimagined with co...   6.55  2022-04-26\n",
      "4  1984: The dystopian classic reimagined with co...   6.55  2022-04-26\n",
      "5  1984: The dystopian classic reimagined with co...   6.55  2022-04-28\n",
      "6  1984: The dystopian classic reimagined with co...   6.55  2022-04-28\n",
      "7  1984: The dystopian classic reimagined with co...   6.55  2022-04-28\n",
      "8  1984: The dystopian classic reimagined with co...   6.55  2022-04-28\n"
     ]
    }
   ],
   "source": [
    "import pandas as pd\n",
    "\n",
    "df = pd.read_csv(r'C:\\Users\\juzas\\AmazonWeb.csv')\n",
    "\n",
    "print(df)\n",
    "            "
   ]
  },
  {
   "cell_type": "code",
   "execution_count": 7,
   "id": "15cd088a",
   "metadata": {},
   "outputs": [],
   "source": [
    "# Appending data to the CSV\n",
    "\n",
    "with open('AmazonWeb.csv', 'a+', newline='', encoding='UTF8') as f:\n",
    "    writer = csv.writer(f)\n",
    "    writer.writerow(data)\n",
    "    "
   ]
  },
  {
   "cell_type": "code",
   "execution_count": 8,
   "id": "335ef1a1",
   "metadata": {},
   "outputs": [],
   "source": [
    "# Creating a function with all of the code + send_mail\n",
    "\n",
    "def check_price():\n",
    "    url = 'https://www.amazon.co.uk/Nineteen-Eighty-four-Penguin-Essentials-George/dp/0141036141/ref=sr_1_1_sspa?crid=QZBDGUJGVE7B&keywords=1984&qid=1651005424&sprefix=1984%2Caps%2C81&sr=8-1-spons&psc=1&spLa=ZW5jcnlwdGVkUXVhbGlmaWVyPUEyMElWNlQyRldTV09PJmVuY3J5cHRlZElkPUEwMzYxMzAzMVZDOEc5MEFQVVg3NCZlbmNyeXB0ZWRBZElkPUEwMTQ5OTUyT1dYS09OMDZETldLJndpZGdldE5hbWU9c3BfYXRmJmFjdGlvbj1jbGlja1JlZGlyZWN0JmRvTm90TG9nQ2xpY2s9dHJ1ZQ=='\n",
    "    headers = {\"User-Agent\": \"Mozilla/5.0 (Windows NT 10.0; Win64; x64) AppleWebKit/537.36 (KHTML, like Gecko) Chrome/99.0.4844.74 Safari/537.36\", \"Accept-Encoding\":\"gzip, deflate\", \"Accept\":\"text/html,application/xhtml+xml,application/xml;q=0.9,*/*;q=0.8\", \"DNT\":\"1\",\"Connection\":\"close\", \"Upgrade-Insecure-Requests\":\"1\"}\n",
    "    page = requests.get(url, headers=headers)\n",
    "    soup1 = BeautifulSoup(page.content, 'html.parser')\n",
    "    soup2 = BeautifulSoup(soup1.prettify(), 'html.parser')\n",
    "    title = soup2.find(id='productTitle').get_text()\n",
    "    price = soup2.find('span', 'a-offscreen').get_text()\n",
    "    price = price.strip()[1:]\n",
    "    title = title.strip()\n",
    "    \n",
    "    import datetime\n",
    "\n",
    "    today = datetime.date.today()\n",
    "\n",
    "    import csv\n",
    "\n",
    "    header = ['Title', 'Price', 'Date']\n",
    "    data = [title, price, today]\n",
    "    \n",
    "    with open('AmazonWeb.csv', 'a+', newline='', encoding='UTF8') as f:\n",
    "        writer = csv.writer(f)\n",
    "        writer.writerow(data)\n",
    "            "
   ]
  },
  {
   "cell_type": "code",
   "execution_count": null,
   "id": "1c501b93",
   "metadata": {},
   "outputs": [],
   "source": [
    "# Setting check_run to run after a 24 hours and input data into the CSV\n",
    "\n",
    "while(True):\n",
    "    check_price()\n",
    "    time.sleep(5)\n",
    "    "
   ]
  },
  {
   "cell_type": "code",
   "execution_count": 10,
   "id": "65afffb4",
   "metadata": {},
   "outputs": [
    {
     "name": "stdout",
     "output_type": "stream",
     "text": [
      "                                                Title  Price        Date\n",
      "0   1984: The dystopian classic reimagined with co...   6.55  2022-04-26\n",
      "1   1984: The dystopian classic reimagined with co...   6.55  2022-04-26\n",
      "2   1984: The dystopian classic reimagined with co...   6.55  2022-04-26\n",
      "3   1984: The dystopian classic reimagined with co...   6.55  2022-04-26\n",
      "4   1984: The dystopian classic reimagined with co...   6.55  2022-04-26\n",
      "5   1984: The dystopian classic reimagined with co...   6.55  2022-04-28\n",
      "6   1984: The dystopian classic reimagined with co...   6.55  2022-04-28\n",
      "7   1984: The dystopian classic reimagined with co...   6.55  2022-04-28\n",
      "8   1984: The dystopian classic reimagined with co...   6.55  2022-04-28\n",
      "9   1984: The dystopian classic reimagined with co...   6.55  2022-04-28\n",
      "10  1984: The dystopian classic reimagined with co...   6.55  2022-04-28\n",
      "11  1984: The dystopian classic reimagined with co...   6.55  2022-04-28\n",
      "12  1984: The dystopian classic reimagined with co...   6.55  2022-04-28\n"
     ]
    }
   ],
   "source": [
    "import pandas as pd\n",
    "\n",
    "df = pd.read_csv(r'C:\\Users\\juzas\\AmazonWeb.csv')\n",
    "\n",
    "print(df)\n"
   ]
  },
  {
   "cell_type": "code",
   "execution_count": null,
   "id": "a10e6be3",
   "metadata": {},
   "outputs": [],
   "source": [
    "# Sending myself an e-mail when price is below a certain level\n",
    "\n",
    "def send_mail():\n",
    "    server = smtplib.SMTP_SSL('smtp.gmail.com',465)\n",
    "    server.ehlo()\n",
    "    #server.starttls()\n",
    "    server.ehlo()\n",
    "    server.login('sidiskistomas@gmail.com','xxxxxxxxxxxxxx')\n",
    "    \n",
    "    subject = \"1984 :The dystopian classic reimagined with cover art by Shepard Fairey is below £6! Now is your chance to buy!\"\n",
    "    body = \"Tomas, this is the moment you've been waiting for. Now is your chance to pick up  1984 :The dystopian classic reimagined with cover art by Shepard Fairey. Don't mess it up! Link here: https://www.amazon.co.uk/Nineteen-Eighty-four-Penguin-Essentials-George/dp/0141036141/ref=sr_1_1_sspa?crid=QZBDGUJGVE7B&keywords=1984&qid=1651005424&sprefix=1984%2Caps%2C81&sr=8-1-spons&psc=1&spLa=ZW5jcnlwdGVkUXVhbGlmaWVyPUEyMElWNlQyRldTV09PJmVuY3J5cHRlZElkPUEwMzYxMzAzMVZDOEc5MEFQVVg3NCZlbmNyeXB0ZWRBZElkPUEwMTQ5OTUyT1dYS09OMDZETldLJndpZGdldE5hbWU9c3BfYXRmJmFjdGlvbj1jbGlja1JlZGlyZWN0JmRvTm90TG9nQ2xpY2s9dHJ1ZQ==\n",
    "\n",
    "    msg = f\"Subject: {subject}\\n\\n{body}\"\n",
    "    \n",
    "    server.sendmail(\n",
    "        'sidiskistomas@gmail.com',\n",
    "        msg\n",
    "     \n",
    "    )\n",
    "    "
   ]
  }
 ],
 "metadata": {
  "kernelspec": {
   "display_name": "Python 3 (ipykernel)",
   "language": "python",
   "name": "python3"
  },
  "language_info": {
   "codemirror_mode": {
    "name": "ipython",
    "version": 3
   },
   "file_extension": ".py",
   "mimetype": "text/x-python",
   "name": "python",
   "nbconvert_exporter": "python",
   "pygments_lexer": "ipython3",
   "version": "3.9.7"
  }
 },
 "nbformat": 4,
 "nbformat_minor": 5
}
